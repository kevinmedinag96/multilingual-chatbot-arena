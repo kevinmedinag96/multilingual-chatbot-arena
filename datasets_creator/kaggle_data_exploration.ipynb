{
 "cells": [
  {
   "cell_type": "markdown",
   "metadata": {},
   "source": [
    "This notebook explores the content inside the binary parquet train/test files. "
   ]
  },
  {
   "cell_type": "markdown",
   "metadata": {},
   "source": [
    "# Load parquet files"
   ]
  },
  {
   "cell_type": "markdown",
   "metadata": {},
   "source": [
    "train.parquet: <br>\n",
    "\n",
    "* id - A unique string identifier for the row.\n",
    "* prompt - The prompt that was given as an input to both models.\n",
    "* response_[a/b] - The response from model_[a/b] to the given prompt.\n",
    "* winner - The judge's selection. The ground truth target column.\n",
    "* model_[a/b] - The identity of model_[a/b]. Only included in train.parquet.\n",
    "* language - The language used in the prompt. Only included in train.parquet.\n",
    "\n",
    "test.parquet:\n",
    "\n",
    "* id - A unique integer identifier for the row.\n",
    "* prompt\n",
    "* response_[a/b]\n",
    "* scored - Whether or not the row is currently scored. During the model training phase this will be true for rows used for the public leaderboard; during the forecasting phase this will be true for rows used for the private leaderboard."
   ]
  },
  {
   "cell_type": "code",
   "execution_count": 1,
   "metadata": {},
   "outputs": [],
   "source": [
    "#libraries\n",
    "import pandas as pd\n",
    "import pathlib\n",
    "import seaborn as sns\n",
    "import matplotlib.pyplot as plt\n",
    "import matplotlib.colors as mcolors\n",
    "import numpy as np\n",
    "\n",
    "from unstructured.cleaners.core import (\n",
    "    clean,\n",
    "    clean_extra_whitespace,\n",
    "    clean_non_ascii_chars,\n",
    "    group_broken_paragraphs,\n",
    "    replace_unicode_quotes,\n",
    ")"
   ]
  },
  {
   "cell_type": "code",
   "execution_count": 2,
   "metadata": {},
   "outputs": [],
   "source": [
    "#colors\n",
    "black = mcolors.CSS4_COLORS[\"black\"]\n",
    "lime = mcolors.CSS4_COLORS[\"lime\"]\n",
    "aqua = mcolors.CSS4_COLORS[\"aqua\"]\n",
    "magenta = mcolors.CSS4_COLORS[\"magenta\"]\n",
    "red = mcolors.CSS4_COLORS[\"red\"]\n",
    "grey = mcolors.CSS4_COLORS[\"grey\"]\n",
    "orange = mcolors.CSS4_COLORS[\"orangered\"]\n",
    "gold = mcolors.CSS4_COLORS[\"gold\"]\n",
    "blue = mcolors.CSS4_COLORS[\"blue\"]\n",
    "indigo = mcolors.CSS4_COLORS[\"indigo\"]"
   ]
  },
  {
   "cell_type": "code",
   "execution_count": 3,
   "metadata": {},
   "outputs": [],
   "source": [
    "curr_path = pathlib.Path().resolve().__str__()\n",
    "slash = \"/\"\n",
    "data_path = \"data/original\"\n",
    "train_df = pd.read_parquet(curr_path + slash + data_path + slash + \"train.parquet\")\n",
    "test_df = pd.read_parquet(curr_path + slash + data_path + slash + \"test.parquet\")"
   ]
  },
  {
   "cell_type": "markdown",
   "metadata": {},
   "source": [
    "# Exploratory Data Analysis (EDA)"
   ]
  },
  {
   "cell_type": "markdown",
   "metadata": {},
   "source": [
    "### Train set"
   ]
  },
  {
   "cell_type": "code",
   "execution_count": 4,
   "metadata": {},
   "outputs": [
    {
     "data": {
      "text/html": [
       "<div>\n",
       "<style scoped>\n",
       "    .dataframe tbody tr th:only-of-type {\n",
       "        vertical-align: middle;\n",
       "    }\n",
       "\n",
       "    .dataframe tbody tr th {\n",
       "        vertical-align: top;\n",
       "    }\n",
       "\n",
       "    .dataframe thead th {\n",
       "        text-align: right;\n",
       "    }\n",
       "</style>\n",
       "<table border=\"1\" class=\"dataframe\">\n",
       "  <thead>\n",
       "    <tr style=\"text-align: right;\">\n",
       "      <th></th>\n",
       "      <th>id</th>\n",
       "      <th>prompt</th>\n",
       "      <th>response_a</th>\n",
       "      <th>response_b</th>\n",
       "      <th>winner</th>\n",
       "      <th>model_a</th>\n",
       "      <th>model_b</th>\n",
       "      <th>language</th>\n",
       "    </tr>\n",
       "  </thead>\n",
       "  <tbody>\n",
       "    <tr>\n",
       "      <th>0</th>\n",
       "      <td>00007cff95d7f7974642a785aca248b0f26e60d3312fac...</td>\n",
       "      <td>vieš po Slovensky?</td>\n",
       "      <td>Áno, hovorím po slovensky. Ako vám môžem pomôcť?</td>\n",
       "      <td>Áno, veď som tu! Môžem ti pomôcť s otázkami al...</td>\n",
       "      <td>model_a</td>\n",
       "      <td>o1-preview</td>\n",
       "      <td>reka-core-20240904</td>\n",
       "      <td>Slovak</td>\n",
       "    </tr>\n",
       "    <tr>\n",
       "      <th>1</th>\n",
       "      <td>00010ed04b536f56ebe43eef1100c13906abea12bf9855...</td>\n",
       "      <td>You will be given a piece of news. Analyze it ...</td>\n",
       "      <td>Let's break down the news and analyze it accor...</td>\n",
       "      <td>```json\\n{\\n  \"contains_orgs\": true,\\n  \"orgs\"...</td>\n",
       "      <td>model_a</td>\n",
       "      <td>gemma-2-27b-it</td>\n",
       "      <td>gemini-1.5-flash-002</td>\n",
       "      <td>Russian</td>\n",
       "    </tr>\n",
       "    <tr>\n",
       "      <th>2</th>\n",
       "      <td>0003800d510e38803efba5ceaec122bc66408fe367b0be...</td>\n",
       "      <td>Dört basamaklı, rakamları birbirinden ve sıfır...</td>\n",
       "      <td>Bu soruyu çözmek için, verilen koşulları adım ...</td>\n",
       "      <td>Bu problemi adım adım çözelim:\\n\\n1) ABCD - DC...</td>\n",
       "      <td>model_a</td>\n",
       "      <td>gpt-4-0125-preview</td>\n",
       "      <td>claude-3-5-sonnet-20240620</td>\n",
       "      <td>Turkish</td>\n",
       "    </tr>\n",
       "    <tr>\n",
       "      <th>3</th>\n",
       "      <td>00072026c68f5418ef2da238394e418ce72a534b9b22d5...</td>\n",
       "      <td>현재 추천된 탑 3 종목인 Cabaletta Bio (CABA), Rocket Ph...</td>\n",
       "      <td>죄송하지만 저는 금융 조언을 제공할 수 없습니다. 저는 AI 모델이며, 투자 결정에...</td>\n",
       "      <td>현재 추천된 탑 3 종목에 순위를 매기기 위해서는 여러 가지 요소들을 고려해야 합니...</td>\n",
       "      <td>model_b</td>\n",
       "      <td>gemma-2-2b-it</td>\n",
       "      <td>llama-3.1-nemotron-70b-instruct</td>\n",
       "      <td>English</td>\n",
       "    </tr>\n",
       "    <tr>\n",
       "      <th>4</th>\n",
       "      <td>0007ce7cf6bc1b5a8f8a4669b854fb12030863c970d9dc...</td>\n",
       "      <td>Please be boring</td>\n",
       "      <td>Alright, I'll be as boring as possible.\\n\\nTod...</td>\n",
       "      <td>Understood. Here is a straightforward, unadorn...</td>\n",
       "      <td>model_a</td>\n",
       "      <td>reka-flash-20240722</td>\n",
       "      <td>grok-2-2024-08-13</td>\n",
       "      <td>English</td>\n",
       "    </tr>\n",
       "  </tbody>\n",
       "</table>\n",
       "</div>"
      ],
      "text/plain": [
       "                                                  id  \\\n",
       "0  00007cff95d7f7974642a785aca248b0f26e60d3312fac...   \n",
       "1  00010ed04b536f56ebe43eef1100c13906abea12bf9855...   \n",
       "2  0003800d510e38803efba5ceaec122bc66408fe367b0be...   \n",
       "3  00072026c68f5418ef2da238394e418ce72a534b9b22d5...   \n",
       "4  0007ce7cf6bc1b5a8f8a4669b854fb12030863c970d9dc...   \n",
       "\n",
       "                                              prompt  \\\n",
       "0                                 vieš po Slovensky?   \n",
       "1  You will be given a piece of news. Analyze it ...   \n",
       "2  Dört basamaklı, rakamları birbirinden ve sıfır...   \n",
       "3  현재 추천된 탑 3 종목인 Cabaletta Bio (CABA), Rocket Ph...   \n",
       "4                                  Please be boring    \n",
       "\n",
       "                                          response_a  \\\n",
       "0   Áno, hovorím po slovensky. Ako vám môžem pomôcť?   \n",
       "1  Let's break down the news and analyze it accor...   \n",
       "2  Bu soruyu çözmek için, verilen koşulları adım ...   \n",
       "3  죄송하지만 저는 금융 조언을 제공할 수 없습니다. 저는 AI 모델이며, 투자 결정에...   \n",
       "4  Alright, I'll be as boring as possible.\\n\\nTod...   \n",
       "\n",
       "                                          response_b   winner  \\\n",
       "0  Áno, veď som tu! Môžem ti pomôcť s otázkami al...  model_a   \n",
       "1  ```json\\n{\\n  \"contains_orgs\": true,\\n  \"orgs\"...  model_a   \n",
       "2  Bu problemi adım adım çözelim:\\n\\n1) ABCD - DC...  model_a   \n",
       "3  현재 추천된 탑 3 종목에 순위를 매기기 위해서는 여러 가지 요소들을 고려해야 합니...  model_b   \n",
       "4  Understood. Here is a straightforward, unadorn...  model_a   \n",
       "\n",
       "               model_a                          model_b language  \n",
       "0           o1-preview               reka-core-20240904   Slovak  \n",
       "1       gemma-2-27b-it             gemini-1.5-flash-002  Russian  \n",
       "2   gpt-4-0125-preview       claude-3-5-sonnet-20240620  Turkish  \n",
       "3        gemma-2-2b-it  llama-3.1-nemotron-70b-instruct  English  \n",
       "4  reka-flash-20240722                grok-2-2024-08-13  English  "
      ]
     },
     "execution_count": 4,
     "metadata": {},
     "output_type": "execute_result"
    }
   ],
   "source": [
    "train_df.head()"
   ]
  },
  {
   "cell_type": "code",
   "execution_count": 5,
   "metadata": {},
   "outputs": [
    {
     "name": "stdout",
     "output_type": "stream",
     "text": [
      "Training set contains : 48439 records\n"
     ]
    }
   ],
   "source": [
    "print(f\"Training set contains : {train_df.shape[0]} records\")"
   ]
  },
  {
   "cell_type": "markdown",
   "metadata": {},
   "source": [
    "Note: For each record we have a two model-pair comparison, i.e. for each new record there is a high probability that the selected pair models are new ones when compared to the current record.\n",
    "\n",
    "Total models found in training set"
   ]
  },
  {
   "cell_type": "code",
   "execution_count": 6,
   "metadata": {},
   "outputs": [
    {
     "data": {
      "text/plain": [
       "array([['o1-preview', 'gemma-2-27b-it', 'gpt-4-0125-preview',\n",
       "        'gemma-2-2b-it', 'reka-flash-20240722',\n",
       "        'gemini-1.5-flash-8b-exp-0827', 'claude-3-opus-20240229',\n",
       "        'reka-core-20240904', 'gemini-1.5-pro-002', 'yi-lightning',\n",
       "        'qwen-plus-0828', 'gemma-2-9b-it', 'o1-mini',\n",
       "        'gpt-4o-mini-2024-07-18', 'claude-3-haiku-20240307',\n",
       "        'llama-3.1-405b-instruct-bf16', 'llama-3.1-70b-instruct',\n",
       "        'grok-2-2024-08-13', 'gemini-1.5-pro-exp-0827',\n",
       "        'command-r-plus-08-2024', 'gemini-1.5-pro-001', 'qwen-max-0919',\n",
       "        'gemini-1.5-flash-002', 'gemini-1.5-flash-8b-001',\n",
       "        'llama-3.2-1b-instruct', 'jamba-1.5-mini',\n",
       "        'chatgpt-4o-latest-20240903', 'claude-3-5-sonnet-20240620',\n",
       "        'grok-2-mini-2024-08-13', 'llama-3.1-405b-instruct-fp8',\n",
       "        'deepseek-v2.5', 'llama-3.1-8b-instruct', 'gpt-4o-2024-05-13',\n",
       "        'reka-flash-20240904', 'llama-3.2-3b-instruct',\n",
       "        'yi-lightning-lite', 'gpt-4o-2024-08-06', 'gemini-1.5-flash-001',\n",
       "        'command-r-08-2024', 'qwen2.5-72b-instruct',\n",
       "        'phi-3-medium-4k-instruct', 'reka-core-20240722',\n",
       "        'internlm2_5-20b-chat', 'mistral-large-2407', 'athene-70b-0725',\n",
       "        'gemini-1.5-flash-exp-0827', 'glm-4-plus',\n",
       "        'llama-3.1-nemotron-70b-instruct',\n",
       "        'llama-3.1-nemotron-51b-instruct', 'gpt-4-turbo-2024-04-09',\n",
       "        'gemma-2-9b-it-simpo', 'gpt-4-1106-preview',\n",
       "        'chatgpt-4o-latest-20240808', 'deepseek-coder-v2-0724',\n",
       "        'claude-3-5-sonnet-20241022', 'jamba-1.5-large',\n",
       "        'mixtral-8x22b-instruct-v0.1', 'c4ai-aya-expanse-32b',\n",
       "        'qwen2-72b-instruct', 'deepseek-v2-api-0628'],\n",
       "       ['reka-core-20240904', 'gemini-1.5-flash-002',\n",
       "        'claude-3-5-sonnet-20240620', 'llama-3.1-nemotron-70b-instruct',\n",
       "        'grok-2-2024-08-13', 'gemini-1.5-flash-exp-0827',\n",
       "        'claude-3-haiku-20240307', 'gpt-4o-2024-08-06',\n",
       "        'llama-3.1-70b-instruct', 'claude-3-5-sonnet-20241022',\n",
       "        'mistral-large-2407', 'reka-flash-20240904',\n",
       "        'internlm2_5-20b-chat', 'llama-3.1-405b-instruct-bf16',\n",
       "        'llama-3.2-3b-instruct', 'gemini-1.5-pro-002',\n",
       "        'chatgpt-4o-latest-20240903', 'grok-2-mini-2024-08-13',\n",
       "        'llama-3.2-1b-instruct', 'gemma-2-2b-it',\n",
       "        'gemini-1.5-flash-8b-001', 'qwen-max-0919',\n",
       "        'gpt-4o-mini-2024-07-18', 'gpt-4-turbo-2024-04-09',\n",
       "        'chatgpt-4o-latest-20240808', 'o1-preview', 'gemini-1.5-pro-001',\n",
       "        'gpt-4-1106-preview', 'deepseek-v2.5', 'command-r-plus-08-2024',\n",
       "        'gpt-4-0125-preview', 'qwen-plus-0828', 'claude-3-opus-20240229',\n",
       "        'gpt-4o-2024-05-13', 'qwen2.5-72b-instruct',\n",
       "        'gemini-1.5-pro-exp-0827', 'command-r-08-2024',\n",
       "        'yi-lightning-lite', 'gemma-2-27b-it', 'athene-70b-0725',\n",
       "        'gemma-2-9b-it', 'qwen2-72b-instruct',\n",
       "        'llama-3.1-405b-instruct-fp8', 'jamba-1.5-mini', 'o1-mini',\n",
       "        'gemini-1.5-flash-001', 'llama-3.1-8b-instruct',\n",
       "        'jamba-1.5-large', 'gemini-1.5-flash-8b-exp-0827', 'glm-4-plus',\n",
       "        'yi-lightning', 'llama-3.1-nemotron-51b-instruct',\n",
       "        'c4ai-aya-expanse-32b', 'phi-3-medium-4k-instruct',\n",
       "        'reka-flash-20240722', 'reka-core-20240722',\n",
       "        'mixtral-8x22b-instruct-v0.1', 'deepseek-coder-v2-0724',\n",
       "        'deepseek-v2-api-0628', 'gemma-2-9b-it-simpo']], dtype=object)"
      ]
     },
     "execution_count": 6,
     "metadata": {},
     "output_type": "execute_result"
    }
   ],
   "source": [
    "np.concatenate([[train_df[\"model_a\"].unique(),train_df[\"model_b\"].unique()]],axis=1)"
   ]
  },
  {
   "cell_type": "code",
   "execution_count": 7,
   "metadata": {},
   "outputs": [],
   "source": [
    "model_a_names_unique = train_df[\"model_a\"].unique().reshape(-1,1)\n",
    "model_b_names_unique = train_df[\"model_b\"].unique().reshape(-1,1)\n",
    "\n",
    "tot_models_names = np.concatenate([model_a_names_unique,model_b_names_unique],axis=0).ravel()"
   ]
  },
  {
   "cell_type": "code",
   "execution_count": 8,
   "metadata": {},
   "outputs": [
    {
     "data": {
      "text/plain": [
       "array(['athene-70b-0725', 'c4ai-aya-expanse-32b',\n",
       "       'chatgpt-4o-latest-20240808', 'chatgpt-4o-latest-20240903',\n",
       "       'claude-3-5-sonnet-20240620', 'claude-3-5-sonnet-20241022',\n",
       "       'claude-3-haiku-20240307', 'claude-3-opus-20240229',\n",
       "       'command-r-08-2024', 'command-r-plus-08-2024',\n",
       "       'deepseek-coder-v2-0724', 'deepseek-v2-api-0628', 'deepseek-v2.5',\n",
       "       'gemini-1.5-flash-001', 'gemini-1.5-flash-002',\n",
       "       'gemini-1.5-flash-8b-001', 'gemini-1.5-flash-8b-exp-0827',\n",
       "       'gemini-1.5-flash-exp-0827', 'gemini-1.5-pro-001',\n",
       "       'gemini-1.5-pro-002', 'gemini-1.5-pro-exp-0827', 'gemma-2-27b-it',\n",
       "       'gemma-2-2b-it', 'gemma-2-9b-it', 'gemma-2-9b-it-simpo',\n",
       "       'glm-4-plus', 'gpt-4-0125-preview', 'gpt-4-1106-preview',\n",
       "       'gpt-4-turbo-2024-04-09', 'gpt-4o-2024-05-13', 'gpt-4o-2024-08-06',\n",
       "       'gpt-4o-mini-2024-07-18', 'grok-2-2024-08-13',\n",
       "       'grok-2-mini-2024-08-13', 'internlm2_5-20b-chat',\n",
       "       'jamba-1.5-large', 'jamba-1.5-mini',\n",
       "       'llama-3.1-405b-instruct-bf16', 'llama-3.1-405b-instruct-fp8',\n",
       "       'llama-3.1-70b-instruct', 'llama-3.1-8b-instruct',\n",
       "       'llama-3.1-nemotron-51b-instruct',\n",
       "       'llama-3.1-nemotron-70b-instruct', 'llama-3.2-1b-instruct',\n",
       "       'llama-3.2-3b-instruct', 'mistral-large-2407',\n",
       "       'mixtral-8x22b-instruct-v0.1', 'o1-mini', 'o1-preview',\n",
       "       'phi-3-medium-4k-instruct', 'qwen-max-0919', 'qwen-plus-0828',\n",
       "       'qwen2-72b-instruct', 'qwen2.5-72b-instruct', 'reka-core-20240722',\n",
       "       'reka-core-20240904', 'reka-flash-20240722', 'reka-flash-20240904',\n",
       "       'yi-lightning', 'yi-lightning-lite'], dtype=object)"
      ]
     },
     "execution_count": 8,
     "metadata": {},
     "output_type": "execute_result"
    }
   ],
   "source": [
    "np.unique(tot_models_names)"
   ]
  },
  {
   "cell_type": "markdown",
   "metadata": {},
   "source": [
    "Training set contains missing data?"
   ]
  },
  {
   "cell_type": "code",
   "execution_count": 9,
   "metadata": {},
   "outputs": [
    {
     "data": {
      "text/plain": [
       "id            0\n",
       "prompt        0\n",
       "response_a    0\n",
       "response_b    0\n",
       "winner        0\n",
       "model_a       0\n",
       "model_b       0\n",
       "language      0\n",
       "dtype: int64"
      ]
     },
     "execution_count": 9,
     "metadata": {},
     "output_type": "execute_result"
    }
   ],
   "source": [
    "train_df.isnull().sum()"
   ]
  },
  {
   "cell_type": "markdown",
   "metadata": {},
   "source": [
    "Training set: We have two different model responses. Therefore we have two kinds of outputs: model_a or model_b. Let's see if output is balanced."
   ]
  },
  {
   "cell_type": "code",
   "execution_count": 10,
   "metadata": {},
   "outputs": [],
   "source": [
    "train_df_winner_series = train_df[\"winner\"].value_counts()\n",
    "df_train_df_winner_series = pd.DataFrame({\n",
    "    \"winner\" : train_df_winner_series.keys(),\n",
    "    \"proportion\" : train_df_winner_series.values / train_df.shape[0]\n",
    "})"
   ]
  },
  {
   "cell_type": "code",
   "execution_count": 11,
   "metadata": {},
   "outputs": [
    {
     "data": {
      "text/plain": [
       "Text(0.5, 1.0, \"Winner Model's Proportion in Training Set\")"
      ]
     },
     "execution_count": 11,
     "metadata": {},
     "output_type": "execute_result"
    },
    {
     "data": {
      "image/png": "[encoded data removed]",
      "text/plain": [
       "<Figure size 500x500 with 1 Axes>"
      ]
     },
     "metadata": {},
     "output_type": "display_data"
    }
   ],
   "source": [
    "fig,ax = plt.subplots(1,1,figsize= (5,5))\n",
    "sns.barplot(data=df_train_df_winner_series,x=\"winner\",y=\"proportion\",ax=ax,color=magenta)\n",
    "\n",
    "\n",
    "#ax.tick_params(axis='x',labelrotation=90,labelsize=12)\n",
    "ax.set_xlabel(\"Winner model\",fontsize=10)\n",
    "ax.set_ylabel(\"Proportion\",fontsize=10)\n",
    "ax.set_title(\"Winner Model's Proportion in Training Set\",fontsize=10)"
   ]
  },
  {
   "cell_type": "markdown",
   "metadata": {},
   "source": [
    "Human's language distribution in Training set"
   ]
  },
  {
   "cell_type": "code",
   "execution_count": 12,
   "metadata": {},
   "outputs": [
    {
     "data": {
      "text/plain": [
       "language\n",
       "English        True\n",
       "Russian        True\n",
       "Chinese        True\n",
       "Vietnamese     True\n",
       "German         True\n",
       "              ...  \n",
       "Yiddish       False\n",
       "Zhuang        False\n",
       "Abkhazian     False\n",
       "Waray         False\n",
       "Sindhi        False\n",
       "Name: proportion, Length: 128, dtype: bool"
      ]
     },
     "execution_count": 12,
     "metadata": {},
     "output_type": "execute_result"
    }
   ],
   "source": [
    "(train_df[\"language\"].value_counts(normalize=True) > 0.002)"
   ]
  },
  {
   "cell_type": "code",
   "execution_count": 13,
   "metadata": {},
   "outputs": [],
   "source": [
    "series_language = train_df[\"language\"].value_counts(normalize=True)[(train_df[\"language\"].value_counts(normalize=True) > 0.01).values]\n",
    "\n",
    "df_series_language = pd.DataFrame({\n",
    "    \"languages\" : series_language.keys(),\n",
    "    \"percentages\" : series_language.values * 100 \n",
    "})"
   ]
  },
  {
   "cell_type": "code",
   "execution_count": 14,
   "metadata": {},
   "outputs": [
    {
     "data": {
      "text/plain": [
       "Text(0.5, 1.0, \"Language's Percentage Distribution in Training Set\")"
      ]
     },
     "execution_count": 14,
     "metadata": {},
     "output_type": "execute_result"
    },
    {
     "data": {
      "image/png": "[encoded data removed]",
      "text/plain": [
       "<Figure size 500x500 with 1 Axes>"
      ]
     },
     "metadata": {},
     "output_type": "display_data"
    }
   ],
   "source": [
    "fig,ax = plt.subplots(1,1,figsize= (5,5))\n",
    "sns.barplot(data=df_series_language,x=\"languages\",y=\"percentages\",ax=ax,color=grey)\n",
    "\n",
    "\n",
    "ax.tick_params(axis='x', labelrotation=90)\n",
    "ax.set_xlabel(\"Language\",fontsize=10)\n",
    "ax.set_ylabel(\"Percentage (%)\",fontsize=10)\n",
    "ax.set_title(\"Language's Percentage Distribution in Training Set\",fontsize=10)"
   ]
  },
  {
   "cell_type": "markdown",
   "metadata": {},
   "source": [
    "### Test set"
   ]
  },
  {
   "cell_type": "markdown",
   "metadata": {},
   "source": [
    "Notes:\n",
    "Not a relevant test set provided, create validation sets to measure performance of the models."
   ]
  },
  {
   "cell_type": "code",
   "execution_count": 15,
   "metadata": {},
   "outputs": [
    {
     "data": {
      "text/html": [
       "<div>\n",
       "<style scoped>\n",
       "    .dataframe tbody tr th:only-of-type {\n",
       "        vertical-align: middle;\n",
       "    }\n",
       "\n",
       "    .dataframe tbody tr th {\n",
       "        vertical-align: top;\n",
       "    }\n",
       "\n",
       "    .dataframe thead th {\n",
       "        text-align: right;\n",
       "    }\n",
       "</style>\n",
       "<table border=\"1\" class=\"dataframe\">\n",
       "  <thead>\n",
       "    <tr style=\"text-align: right;\">\n",
       "      <th></th>\n",
       "      <th>id</th>\n",
       "      <th>prompt</th>\n",
       "      <th>response_a</th>\n",
       "      <th>response_b</th>\n",
       "      <th>scored</th>\n",
       "    </tr>\n",
       "  </thead>\n",
       "  <tbody>\n",
       "    <tr>\n",
       "      <th>0</th>\n",
       "      <td>327228</td>\n",
       "      <td>Caso Clínico: Un hombre de 70 años con anteced...</td>\n",
       "      <td>**Diagnóstico Diferencial de Anemia en Pacient...</td>\n",
       "      <td>Basándonos en el caso clínico presentado, pode...</td>\n",
       "      <td>False</td>\n",
       "    </tr>\n",
       "    <tr>\n",
       "      <th>1</th>\n",
       "      <td>1139415</td>\n",
       "      <td>Peel Company received a cash dividend from a ...</td>\n",
       "      <td>The correct answer is **(a) No   No**. Here's ...</td>\n",
       "      <td>The correct answer is **(a) No No**. Here's wh...</td>\n",
       "      <td>False</td>\n",
       "    </tr>\n",
       "    <tr>\n",
       "      <th>2</th>\n",
       "      <td>1235630</td>\n",
       "      <td>Há um grave problema com o relógio da torre da...</td>\n",
       "      <td>Dois problemas interessantes!\\n\\n**Problema 1:...</td>\n",
       "      <td>Vamos resolver os dois problemas em sequência....</td>\n",
       "      <td>False</td>\n",
       "    </tr>\n",
       "  </tbody>\n",
       "</table>\n",
       "</div>"
      ],
      "text/plain": [
       "        id                                             prompt  \\\n",
       "0   327228  Caso Clínico: Un hombre de 70 años con anteced...   \n",
       "1  1139415   Peel Company received a cash dividend from a ...   \n",
       "2  1235630  Há um grave problema com o relógio da torre da...   \n",
       "\n",
       "                                          response_a  \\\n",
       "0  **Diagnóstico Diferencial de Anemia en Pacient...   \n",
       "1  The correct answer is **(a) No   No**. Here's ...   \n",
       "2  Dois problemas interessantes!\\n\\n**Problema 1:...   \n",
       "\n",
       "                                          response_b  scored  \n",
       "0  Basándonos en el caso clínico presentado, pode...   False  \n",
       "1  The correct answer is **(a) No No**. Here's wh...   False  \n",
       "2  Vamos resolver os dois problemas em sequência....   False  "
      ]
     },
     "execution_count": 15,
     "metadata": {},
     "output_type": "execute_result"
    }
   ],
   "source": [
    "test_df.head()"
   ]
  },
  {
   "cell_type": "markdown",
   "metadata": {},
   "source": [
    "# Prompt template structure"
   ]
  },
  {
   "cell_type": "code",
   "execution_count": 5,
   "metadata": {},
   "outputs": [],
   "source": [
    "SYSTEM_TEMPLATE = 'You are a specialist in evaluating multilingual chat responses, with a focus on comparing and ranking outputs from different LLMs. Your primary goal is to determine which response is more likely to be preferred by humans based on factors such as clarity, relevance, tone, and overall quality.\\n'"
   ]
  },
  {
   "cell_type": "code",
   "execution_count": 6,
   "metadata": {},
   "outputs": [],
   "source": [
    "PROMPT_TEMPLATE = \"\"\"Below is a prompt with two possible responses (**Response A** and **Response B**). Evaluate them, select the best one and answer in the following format (it is imperative that you respect the specified format, do not add any more text than what I ask for):\\n1.- Write 'model_a' if the **Response A** is better than **Response B**, otherwise write 'model_b'.\\n\\n**Prompt**:\\n{prompt}\\n\\n**Response A**:\\n{response_a}\\n\\n**Response B**:\\n{response_b}\\n\"\"\""
   ]
  },
  {
   "cell_type": "code",
   "execution_count": 18,
   "metadata": {},
   "outputs": [],
   "source": [
    "test_prompt =train_df.iloc[4][\"prompt\"]\n",
    "test_response_a =train_df.iloc[4][\"response_a\"]\n",
    "test_response_b =train_df.iloc[4][\"response_b\"]\n"
   ]
  },
  {
   "cell_type": "code",
   "execution_count": 22,
   "metadata": {},
   "outputs": [
    {
     "data": {
      "text/plain": [
       "\"Below is a prompt with two possible responses. Evaluate them according to the system's guidelines, select the best one and answer based on the following constraints (you must strictly obey these constraints):\\n\\n1.- Write 'Response A' if the first response is better. On the other hand, if the second response is better,write 'Response B'.\\n\\n**Prompt**:\\nPlease be boring \\n\\n**Response A**:\\nAlright, I'll be as boring as possible.\\n\\nToday, I woke up at 6:30 AM, just like every other weekday. I made myself a cup of plain, black coffee and sat down at the kitchen table to read the newspaper. The headlines were all about the same old things: politics, economy, and weather forecasts. After finishing my coffee, I got dressed in my usual work attire and headed out the door.\\n\\nI took the same route to work every day, driving my trusty sedan through the quiet streets. Once I arrived at the office, I settled into my cubicle and started working on the same project I've been working on for the past few weeks. The tasks were monotonous and required no creativity or problem-solving skills.\\n\\nAt lunchtime, I went to the cafeteria and ate a sandwich made with plain bread, lettuce, and deli turkey. I sat alone at a table, scrolling through my phone while eating. After lunch, I went back to my cubicle and continued working until 5:00 PM when I left the office.\\n\\nOn my way home, I stopped at the grocery store to buy some basic groceries: milk, bread, eggs, and a bag of frozen vegetables. I cooked a simple dinner of stir-fry and then spent the rest of the evening watching TV, flipping through channels until I fell asleep.\\n\\nAnd that, my friend, was a boring day in my life.\\n\\n**Response B**:\\nUnderstood. Here is a straightforward, unadorned response:\\n\\n- **Function**: I will provide factual information without embellishment or creative interpretation.\\n- **Purpose**: To deliver precise and direct answers.\\n- **Usage**: When you require clear, concise information without any additional commentary or flair.\\n\\nIf you have a question or need information, please ask, and I will respond accordingly.\\n\""
      ]
     },
     "execution_count": 22,
     "metadata": {},
     "output_type": "execute_result"
    }
   ],
   "source": [
    "PROMPT_TEMPLATE.format(prompt=test_prompt,response_a=test_response_a,response_b=test_response_b)"
   ]
  },
  {
   "cell_type": "code",
   "execution_count": 23,
   "metadata": {},
   "outputs": [],
   "source": [
    "my_string = \"\"\"\n",
    "Hello! While I'm not Hatsune Miku herself, I can certainly share some popular songs that fans often associate with her. One of the beloved tracks is \"World is Mine,\" which captures her iconic style and energy. Another favorite is \"Senbonzakura,\" known for its catchy melody and powerful vocals. What's your favorite Hatsune Miku song? 🎶✨\n",
    "\"\"\""
   ]
  },
  {
   "cell_type": "code",
   "execution_count": 24,
   "metadata": {},
   "outputs": [
    {
     "name": "stdout",
     "output_type": "stream",
     "text": [
      "Hello! While I'm not Hatsune Miku herself, I can certainly share some popular songs that fans often associate with her. One of the beloved tracks is \"World is Mine,\" which captures her iconic style and energy. Another favorite is \"Senbonzakura,\" known for its catchy melody and powerful vocals. What's your favorite Hatsune Miku song? 🎶✨\n",
      "\n",
      "Hello! While I'm not Hatsune Miku herself, I can certainly share some popular songs that fans often associate with her. One of the beloved tracks is \"World is Mine,\" which captures her iconic style and energy. Another favorite is \"Senbonzakura,\" known for its catchy melody and powerful vocals. What's your favorite Hatsune Miku song? \n",
      "\n",
      "\n",
      "Hello! While I'm not Hatsune Miku herself, I can certainly share some popular songs that fans often associate with her. One of the beloved tracks is \"World is Mine,\" which captures her iconic style and energy. Another favorite is \"Senbonzakura,\" known for its catchy melody and powerful vocals. What's your favorite Hatsune Miku song? 🎶✨\n",
      "\n"
     ]
    }
   ],
   "source": [
    "\n",
    "print(clean(my_string))\n",
    "print(clean_non_ascii_chars(my_string))\n",
    "print(replace_unicode_quotes(my_string))"
   ]
  },
  {
   "cell_type": "markdown",
   "metadata": {},
   "source": [
    "# Models' responses processing"
   ]
  },
  {
   "cell_type": "markdown",
   "metadata": {},
   "source": [
    "This section intends to analyze the training set's model responses looking for anomalies. If they are, then it is convenient to clean them before storage."
   ]
  },
  {
   "cell_type": "code",
   "execution_count": 14,
   "metadata": {},
   "outputs": [],
   "source": [
    "from transformers import AutoModelForCausalLM, AutoTokenizer\n",
    "model_name = \"Qwen/Qwen2.5-7B-Instruct-GPTQ-Int4\""
   ]
  },
  {
   "cell_type": "code",
   "execution_count": 15,
   "metadata": {},
   "outputs": [],
   "source": [
    "tokenizer = AutoTokenizer.from_pretrained(\n",
    "model_name,padding_side=\"left\",legacy=False)"
   ]
  },
  {
   "cell_type": "code",
   "execution_count": 17,
   "metadata": {},
   "outputs": [
    {
     "data": {
      "text/plain": [
       "{'bos_token': None,\n",
       " 'eos_token': AddedToken(\"<|im_end|>\", rstrip=False, lstrip=False, single_word=False, normalized=False, special=True),\n",
       " 'unk_token': None,\n",
       " 'sep_token': None,\n",
       " 'pad_token': AddedToken(\"<|endoftext|>\", rstrip=False, lstrip=False, single_word=False, normalized=False, special=True),\n",
       " 'cls_token': None,\n",
       " 'mask_token': None,\n",
       " 'additional_special_tokens': ['<|im_start|>',\n",
       "  '<|im_end|>',\n",
       "  '<|object_ref_start|>',\n",
       "  '<|object_ref_end|>',\n",
       "  '<|box_start|>',\n",
       "  '<|box_end|>',\n",
       "  '<|quad_start|>',\n",
       "  '<|quad_end|>',\n",
       "  '<|vision_start|>',\n",
       "  '<|vision_end|>',\n",
       "  '<|vision_pad|>',\n",
       "  '<|image_pad|>',\n",
       "  '<|video_pad|>']}"
      ]
     },
     "execution_count": 17,
     "metadata": {},
     "output_type": "execute_result"
    }
   ],
   "source": [
    "tokenizer._special_tokens_map"
   ]
  },
  {
   "cell_type": "code",
   "execution_count": 18,
   "metadata": {},
   "outputs": [
    {
     "data": {
      "text/plain": [
       "'<|im_start|>system\\nYou are a specialist in evaluating multilingual chat responses, with a focus on comparing and ranking outputs from different LLMs. Your primary goal is to determine which response is more likely to be preferred by humans based on factors such as clarity, relevance, tone, and overall quality.\\n<|im_end|>\\n<|im_start|>user\\nHey this is a test<|im_end|>\\n<|im_start|>assistant\\n'"
      ]
     },
     "execution_count": 18,
     "metadata": {},
     "output_type": "execute_result"
    }
   ],
   "source": [
    "messages = [\n",
    "                    {\"role\": \"system\", \"content\": SYSTEM_TEMPLATE},\n",
    "                    {\"role\" : \"user\", \"content\" : \"Hey this is a test\"}\n",
    "                ]\n",
    "\n",
    "text = tokenizer.apply_chat_template(messages,add_generation_prompt=True,tokenize=True)\n",
    "text"
   ]
  },
  {
   "cell_type": "code",
   "execution_count": 30,
   "metadata": {},
   "outputs": [
    {
     "name": "stderr",
     "output_type": "stream",
     "text": [
      "/home/kevinmg96/miniconda3/envs/multilingual-chatbot-arena/lib/python3.11/site-packages/auto_gptq/nn_modules/triton_utils/kernels.py:410: FutureWarning: `torch.cuda.amp.custom_fwd(args...)` is deprecated. Please use `torch.amp.custom_fwd(args..., device_type='cuda')` instead.\n",
      "  @custom_fwd\n",
      "/home/kevinmg96/miniconda3/envs/multilingual-chatbot-arena/lib/python3.11/site-packages/auto_gptq/nn_modules/triton_utils/kernels.py:418: FutureWarning: `torch.cuda.amp.custom_bwd(args...)` is deprecated. Please use `torch.amp.custom_bwd(args..., device_type='cuda')` instead.\n",
      "  @custom_bwd\n",
      "/home/kevinmg96/miniconda3/envs/multilingual-chatbot-arena/lib/python3.11/site-packages/auto_gptq/nn_modules/triton_utils/kernels.py:461: FutureWarning: `torch.cuda.amp.custom_fwd(args...)` is deprecated. Please use `torch.amp.custom_fwd(args..., device_type='cuda')` instead.\n",
      "  @custom_fwd(cast_inputs=torch.float16)\n",
      "CUDA extension not installed.\n",
      "CUDA extension not installed.\n",
      "`loss_type=None` was set in the config but it is unrecognised.Using the default loss: `ForCausalLMLoss`.\n",
      "Loading checkpoint shards: 100%|██████████| 2/2 [00:03<00:00,  1.78s/it]\n"
     ]
    }
   ],
   "source": [
    "model = AutoModelForCausalLM.from_pretrained(\n",
    "    model_name,\n",
    "    device_map=\"auto\"\n",
    ")"
   ]
  },
  {
   "cell_type": "markdown",
   "metadata": {},
   "source": [
    "## Visualizing number of tokens for each record"
   ]
  },
  {
   "cell_type": "code",
   "execution_count": 20,
   "metadata": {},
   "outputs": [],
   "source": [
    "from datasets import Dataset\n",
    "from multiprocessing import cpu_count"
   ]
  },
  {
   "cell_type": "markdown",
   "metadata": {},
   "source": [
    "We will test with Qwen2.5 tokenizer"
   ]
  },
  {
   "cell_type": "code",
   "execution_count": 9,
   "metadata": {},
   "outputs": [],
   "source": [
    "hf_dataset = Dataset.from_pandas(train_df)"
   ]
  },
  {
   "cell_type": "code",
   "execution_count": 34,
   "metadata": {},
   "outputs": [],
   "source": [
    "from typing import List\n",
    "\n",
    "\n",
    "from transformers.tokenization_utils_base import BatchEncoding\n",
    "\n",
    "\n",
    "def tokenize_without_padding(records : dict[str,str]):\n",
    "    #tokenize records without truncating and padding\n",
    "\n",
    "    #apply chat template\n",
    "\n",
    "    messages = [\n",
    "                    {\"role\": \"system\", \"content\": SYSTEM_TEMPLATE},\n",
    "                    {\"role\" : \"user\", \"content\" : PROMPT_TEMPLATE.format(\n",
    "                    prompt=records[\"prompt\"],response_a=records[\"response_a\"],response_b = records['response_b'])},\n",
    "                    {\"role\" : \"assistant\", \"content\" : records['winner']}\n",
    "                ]\n",
    "    tokens_id = tokenizer.apply_chat_template(messages,add_generation_prompt=True,tokenize=True)\n",
    "    records[\"tokens_size\"] = len(tokens_id)\n",
    "\n",
    "    return records\n"
   ]
  },
  {
   "cell_type": "code",
   "execution_count": 39,
   "metadata": {},
   "outputs": [
    {
     "name": "stderr",
     "output_type": "stream",
     "text": [
      "Map: 100%|██████████| 48439/48439 [02:13<00:00, 361.64 examples/s]\n"
     ]
    }
   ],
   "source": [
    "hf_dataset = hf_dataset.map(tokenize_without_padding,\n",
    "                            remove_columns=hf_dataset.column_names)"
   ]
  },
  {
   "cell_type": "code",
   "execution_count": 46,
   "metadata": {},
   "outputs": [],
   "source": [
    "tokens_dataset = hf_dataset.to_pandas()\n",
    "\n",
    "token_bins = pd.cut(tokens_dataset[\"tokens_size\"],10)"
   ]
  },
  {
   "cell_type": "code",
   "execution_count": 65,
   "metadata": {},
   "outputs": [
    {
     "data": {
      "text/plain": [
       "Text(0.5, 1.0, \"Number of tokens's Percentage Distribution in Training Set\")"
      ]
     },
     "execution_count": 65,
     "metadata": {},
     "output_type": "execute_result"
    },
    {
     "data": {
      "image/png": "[encoded data removed]",
      "text/plain": [
       "<Figure size 500x500 with 1 Axes>"
      ]
     },
     "metadata": {},
     "output_type": "display_data"
    }
   ],
   "source": [
    "train_df_num_tokens = token_bins.value_counts()\n",
    "train_df_num_tokens_series = pd.DataFrame({\n",
    "    \"bins\" : train_df_num_tokens.keys(),\n",
    "    \"percentage\" : (train_df_num_tokens.values / train_df_num_tokens.values.sum()) * 100\n",
    "})\n",
    "\n",
    "fig,ax = plt.subplots(1,1,figsize= (5,5))\n",
    "sns.barplot(data=train_df_num_tokens_series,x=\"bins\",y=\"percentage\",ax=ax,color=red)\n",
    "#sns.barplot(data=df_series_language,x=\"languages\",y=\"percentages\",ax=ax,color=grey)\n",
    "\n",
    "\n",
    "ax.tick_params(axis='x', labelrotation=90)\n",
    "ax.set_xlabel(\"Number of tokens range\",fontsize=10)\n",
    "ax.set_ylabel(\"Percentage (%)\",fontsize=10)\n",
    "ax.set_title(\"Number of tokens's Percentage Distribution in Training Set\",fontsize=10)\n"
   ]
  },
  {
   "cell_type": "markdown",
   "metadata": {},
   "source": [
    "Conclusion: More than 80% of the training examples have no more than 3.4k of tokens. Then I've decided that the first models I'll try out for\n",
    "fine tuning will focus solely in this subset of records."
   ]
  },
  {
   "cell_type": "markdown",
   "metadata": {},
   "source": [
    "## Testing next token probabilities extraction"
   ]
  },
  {
   "cell_type": "code",
   "execution_count": 93,
   "metadata": {},
   "outputs": [
    {
     "name": "stdout",
     "output_type": "stream",
     "text": [
      "|  2528 | model    | 0.000 | 100.00%\n",
      "|  4306 | _a       | 0.000 | 100.00%\n",
      "| 151645 | <|im_end|> | 0.000 | 100.00%\n"
     ]
    },
    {
     "data": {
      "text/plain": [
       "' print(tokenizer.batch_decode(generated_ids, skip_special_tokens=True)[0])\\n\\ngenerated_ids = [\\n    output_ids[len(input_ids):] for input_ids, output_ids in zip(model_inputs.input_ids, generated_ids)\\n]\\n\\nresponse = tokenizer.batch_decode(generated_ids, skip_special_tokens=True)[0] '"
      ]
     },
     "execution_count": 93,
     "metadata": {},
     "output_type": "execute_result"
    }
   ],
   "source": [
    "\n",
    "tokenizer = AutoTokenizer.from_pretrained(model_name)\n",
    "\n",
    "messages = [\n",
    "    {'role' : 'system', 'content' : SYSTEM_TEMPLATE },\n",
    "    {'role' : 'user', 'content' : PROMPT_TEMPLATE.format(prompt=record.prompt,response_a = record.response_a, response_b = record.response_b)}\n",
    "]\n",
    "\n",
    "chat = tokenizer.apply_chat_template(messages,tokenize=False,add_generation_prompt=True)\n",
    "\n",
    "\n",
    "model_inputs = tokenizer([chat], return_tensors=\"pt\").to(model.device)\n",
    "\n",
    "outputs = model.generate(**model_inputs, max_new_tokens=50, return_dict_in_generate=True, output_scores=True)\n",
    "transition_scores = model.compute_transition_scores(\n",
    "    outputs.sequences, outputs.scores, normalize_logits=True\n",
    ")\n",
    "\n",
    "input_length = model_inputs.input_ids.shape[1]\n",
    "generated_tokens = outputs.sequences[:, input_length:]\n",
    "for tok, score in zip(generated_tokens[0], transition_scores[0]):\n",
    "    # | token | token string | log probability | probability\n",
    "    print(f\"| {tok:5d} | {tokenizer.decode(tok):8s} | {score.detach().cpu().numpy():.3f} | {np.exp(score.detach().cpu().numpy()):.2%}\")\n",
    "\n",
    "\n",
    "\"\"\" print(tokenizer.batch_decode(generated_ids, skip_special_tokens=True)[0])\n",
    "\n",
    "generated_ids = [\n",
    "    output_ids[len(input_ids):] for input_ids, output_ids in zip(model_inputs.input_ids, generated_ids)\n",
    "]\n",
    "\n",
    "response = tokenizer.batch_decode(generated_ids, skip_special_tokens=True)[0] \"\"\"\n",
    "\n"
   ]
  },
  {
   "cell_type": "markdown",
   "metadata": {},
   "source": [
    "Note: It appears that when model is certain that model_a is better, response time is shorter than when it thinks that model_b is better. Let's test zero-shot prediction with the whole dataset to find if the model is capable of uniformely chossing between model_a and model_b. (Remember that original dataset is almost uniformely distributed among both classes.)"
   ]
  }
 ],
 "metadata": {
  "kernelspec": {
   "display_name": "wsdm-cup",
   "language": "python",
   "name": "python3"
  },
  "language_info": {
   "codemirror_mode": {
    "name": "ipython",
    "version": 3
   },
   "file_extension": ".py",
   "mimetype": "text/x-python",
   "name": "python",
   "nbconvert_exporter": "python",
   "pygments_lexer": "ipython3",
   "version": "3.9.21"
  }
 },
 "nbformat": 4,
 "nbformat_minor": 2
}
